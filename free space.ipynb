{
 "cells": [
  {
   "cell_type": "code",
   "execution_count": 11,
   "metadata": {},
   "outputs": [
    {
     "name": "stdout",
     "output_type": "stream",
     "text": [
      "3\n",
      "1\n",
      "5\n",
      "2\n",
      "4\n",
      "3\n",
      "4\n",
      "2\n",
      "4\n",
      "2\n",
      "2\n",
      "2\n",
      "2\n",
      "2\n",
      "2\n",
      "2\n",
      "2\n",
      "2\n",
      "3\n",
      "3\n"
     ]
    }
   ],
   "source": [
    "def longest_alternating_subseq(X):\n",
    "    #  [1, 0, 0, 1, 0, 0]\n",
    "    count = 0\n",
    "    temp_list = [0, 1, 0]\n",
    "    next_num = X[0]\n",
    "    all_sequence = []\n",
    "    for num in X:\n",
    "        if num == next_num:\n",
    "            next_num = temp_list[next_num + 1]\n",
    "            count += 1\n",
    "        else:\n",
    "            next_num = temp_list[num + 1]\n",
    "            count = 1\n",
    "        all_sequence.append(count)\n",
    "    count = max(all_sequence)\n",
    "    return count\n",
    "\n",
    "# Test cases\n",
    "print(longest_alternating_subseq([1, 0, 0, 1, 0, 0]))  # Output: 5\n",
    "print(longest_alternating_subseq([0]))  # Output: 1\n",
    "print(longest_alternating_subseq([1, 0, 1, 0, 1]))  # Output: 5\n",
    "print(longest_alternating_subseq([0, 0, 0, 1, 1]))  # Output: 2\n",
    "print(longest_alternating_subseq([1, 1, 0, 1, 0]))  # Output: 4\n",
    "print(longest_alternating_subseq([1, 0, 1, 1, 1]))  # Output: 3\n",
    "print(longest_alternating_subseq([0, 1, 0, 1, 1]))  # Output: 4\n",
    "print(longest_alternating_subseq([1, 1, 1, 0, 0]))  # Output: 2\n",
    "print(longest_alternating_subseq([0, 0, 1, 0, 1]))  # Output: 4\n",
    "print(longest_alternating_subseq([1, 0, 0, 0, 1]))  # Output: 3\n",
    "print(longest_alternating_subseq([0, 1, 1, 0, 0]))  # Output: 4\n",
    "print(longest_alternating_subseq([1, 1, 1, 1, 0]))  # Output: 2\n",
    "print(longest_alternating_subseq([0, 1, 1, 1, 0]))  # Output: 4\n",
    "print(longest_alternating_subseq([1, 0, 0, 1, 1]))  # Output: 3\n",
    "print(longest_alternating_subseq([0, 0, 1, 1, 1]))  # Output: 2\n",
    "print(longest_alternating_subseq([1, 0, 0, 0, 0]))  # Output: 1\n",
    "print(longest_alternating_subseq([0, 1, 1, 1, 1]))  # Output: 1\n",
    "print(longest_alternating_subseq([1, 1, 0, 0, 0]))  # Output: 1\n",
    "print(longest_alternating_subseq([1, 1, 1, 0, 1]))  # Output: 2\n",
    "print(longest_alternating_subseq([1, 0, 0, 1, 0]))  # Output: 3"
   ]
  },
  {
   "cell_type": "code",
   "execution_count": 9,
   "metadata": {},
   "outputs": [
    {
     "name": "stdout",
     "output_type": "stream",
     "text": [
      "3\n",
      "1\n",
      "5\n",
      "2\n",
      "4\n",
      "3\n",
      "4\n",
      "2\n",
      "4\n",
      "2\n",
      "2\n",
      "2\n",
      "2\n",
      "2\n",
      "2\n",
      "2\n",
      "2\n",
      "2\n",
      "3\n",
      "3\n"
     ]
    }
   ],
   "source": [
    "def longest_alternating_subseq(X):\n",
    "    n = len(X)\n",
    "    max_length = 1\n",
    "    current_length = 1\n",
    "\n",
    "    for i in range(1, n):\n",
    "        if X[i] != X[i-1]:\n",
    "            current_length += 1\n",
    "            max_length = max(max_length, current_length)\n",
    "        else:\n",
    "            current_length = 1\n",
    "\n",
    "    return max_length\n",
    "\n",
    "# Test cases\n",
    "print(longest_alternating_subseq([1, 0, 0, 1, 0, 0]))  # Output: 5\n",
    "print(longest_alternating_subseq([0]))  # Output: 1\n",
    "print(longest_alternating_subseq([1, 0, 1, 0, 1]))  # Output: 5\n",
    "print(longest_alternating_subseq([0, 0, 0, 1, 1]))  # Output: 2\n",
    "print(longest_alternating_subseq([1, 1, 0, 1, 0]))  # Output: 4\n",
    "print(longest_alternating_subseq([1, 0, 1, 1, 1]))  # Output: 3\n",
    "print(longest_alternating_subseq([0, 1, 0, 1, 1]))  # Output: 4\n",
    "print(longest_alternating_subseq([1, 1, 1, 0, 0]))  # Output: 2\n",
    "print(longest_alternating_subseq([0, 0, 1, 0, 1]))  # Output: 4\n",
    "print(longest_alternating_subseq([1, 0, 0, 0, 1]))  # Output: 3\n",
    "print(longest_alternating_subseq([0, 1, 1, 0, 0]))  # Output: 4\n",
    "print(longest_alternating_subseq([1, 1, 1, 1, 0]))  # Output: 2\n",
    "print(longest_alternating_subseq([0, 1, 1, 1, 0]))  # Output: 4\n",
    "print(longest_alternating_subseq([1, 0, 0, 1, 1]))  # Output: 3\n",
    "print(longest_alternating_subseq([0, 0, 1, 1, 1]))  # Output: 2\n",
    "print(longest_alternating_subseq([1, 0, 0, 0, 0]))  # Output: 1\n",
    "print(longest_alternating_subseq([0, 1, 1, 1, 1]))  # Output: 1\n",
    "print(longest_alternating_subseq([1, 1, 0, 0, 0]))  # Output: 1\n",
    "print(longest_alternating_subseq([1, 1, 1, 0, 1]))  # Output: 2\n",
    "print(longest_alternating_subseq([1, 0, 0, 1, 0]))  # Output: 3"
   ]
  },
  {
   "cell_type": "code",
   "execution_count": 11,
   "metadata": {},
   "outputs": [
    {
     "data": {
      "text/plain": [
       "True"
      ]
     },
     "execution_count": 11,
     "metadata": {},
     "output_type": "execute_result"
    }
   ],
   "source": [
    "lis = [[1, 2, 3], [4, 5, 6], [7, 8, 9]]\n",
    "\n",
    "def check_array(l):\n",
    "    # nums = []\n",
    "    output = True\n",
    "    for x in lis:\n",
    "        for y in x:\n",
    "            if type(y) == int:\n",
    "                output = True\n",
    "            else:\n",
    "                output = False\n",
    "                return output\n",
    "    return output\n",
    "    \n",
    "\n",
    "check_array(lis)"
   ]
  },
  {
   "cell_type": "code",
   "execution_count": 3,
   "metadata": {},
   "outputs": [
    {
     "data": {
      "text/plain": [
       "int"
      ]
     },
     "execution_count": 3,
     "metadata": {},
     "output_type": "execute_result"
    }
   ],
   "source": [
    "type(4)"
   ]
  }
 ],
 "metadata": {
  "kernelspec": {
   "display_name": "Python 3",
   "language": "python",
   "name": "python3"
  },
  "language_info": {
   "codemirror_mode": {
    "name": "ipython",
    "version": 3
   },
   "file_extension": ".py",
   "mimetype": "text/x-python",
   "name": "python",
   "nbconvert_exporter": "python",
   "pygments_lexer": "ipython3",
   "version": "3.11.2"
  }
 },
 "nbformat": 4,
 "nbformat_minor": 2
}
